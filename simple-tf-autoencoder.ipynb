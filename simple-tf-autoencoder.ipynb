{
 "cells": [
  {
   "cell_type": "code",
   "execution_count": 8,
   "metadata": {},
   "outputs": [],
   "source": [
    "from __future__ import division, print_function, absolute_import\n",
    "import tensorflow as tf\n",
    "import numpy as np\n",
    "import matplotlib.pyplot as plt"
   ]
  },
  {
   "cell_type": "code",
   "execution_count": 10,
   "metadata": {},
   "outputs": [
    {
     "name": "stdout",
     "output_type": "stream",
     "text": [
      "Extracting /tmp/data/train-images-idx3-ubyte.gz\n",
      "Extracting /tmp/data/train-labels-idx1-ubyte.gz\n",
      "Extracting /tmp/data/t10k-images-idx3-ubyte.gz\n",
      "Extracting /tmp/data/t10k-labels-idx1-ubyte.gz\n"
     ]
    }
   ],
   "source": [
    "from tensorflow.examples.tutorials.mnist import input_data\n",
    "mnist = input_data.read_data_sets(\"/tmp/data/\", one_hot=True)"
   ]
  },
  {
   "cell_type": "code",
   "execution_count": 147,
   "metadata": {},
   "outputs": [],
   "source": [
    "# Training Parameters\n",
    "learning_rate = 0.01\n",
    "num_steps = 10000\n",
    "batch_size = 256\n",
    "\n",
    "display_step = 100\n",
    "\n",
    "# Network Parameters\n",
    "num_hidden_1 = 32\n",
    "num_input = 784"
   ]
  },
  {
   "cell_type": "code",
   "execution_count": 148,
   "metadata": {},
   "outputs": [],
   "source": [
    "X = tf.placeholder(\"float\",[None, num_input],name=\"X\")\n",
    "coded = tf.placeholder(\"float\",[None, num_hidden_1])\n",
    "\n",
    "w_e = tf.Variable(tf.random_normal([num_input,num_hidden_1]),name=\"W_E\")\n",
    "b_e = tf.Variable(tf.random_normal([num_hidden_1]),name=\"B_E\")\n",
    "\n",
    "w_d = tf.Variable(tf.random_normal([num_hidden_1,num_input]),name=\"W_D\")\n",
    "b_d = tf.Variable(tf.random_normal([num_input]),name=\"B_D\")\n",
    "\n",
    "\n",
    "\n",
    "tf.summary.histogram(\"w_e\",w_e)\n",
    "tf.summary.histogram(\"b_e\",b_e)\n",
    "tf.summary.histogram(\"w_d\",w_d)\n",
    "tf.summary.histogram(\"b_d\",b_d)\n",
    "\n",
    "def encoder(x):\n",
    "    with tf.name_scope(\"encoder\"):\n",
    "        layer = tf.add(tf.matmul(x,w_e),b_e)\n",
    "        layer = tf.nn.relu(layer)\n",
    "        return layer\n",
    "\n",
    "def decoder(x):\n",
    "    with tf.name_scope(\"decoder\"):\n",
    "        layer = tf.add(tf.matmul(x,w_d),b_d)\n",
    "        layer = tf.nn.sigmoid(layer)\n",
    "        return layer\n",
    "\n",
    "encoder_op = encoder(X)\n",
    "decoder_op = decoder(encoder_op)\n",
    "img = decoder(coded)\n",
    "\n",
    "y_pred = decoder_op\n",
    "y_true = X\n",
    "\n",
    "with tf.name_scope(\"loss\"):\n",
    "    loss = tf.reduce_mean(tf.pow((y_true-y_pred),2))\n",
    "    optimizer = tf.train.RMSPropOptimizer(learning_rate).minimize(loss)\n",
    "    tf.summary.scalar(\"loss\",loss)\n",
    "    \n",
    "init = tf.global_variables_initializer()"
   ]
  },
  {
   "cell_type": "code",
   "execution_count": 151,
   "metadata": {
    "scrolled": true
   },
   "outputs": [
    {
     "name": "stdout",
     "output_type": "stream",
     "text": [
      "Step 1: Minibatch Loss: 0.478345\n",
      "Step 100: Minibatch Loss: 0.473971\n",
      "Step 200: Minibatch Loss: 0.204543\n",
      "Step 300: Minibatch Loss: 0.176567\n",
      "Step 400: Minibatch Loss: 0.160303\n",
      "Step 500: Minibatch Loss: 0.144347\n",
      "Step 600: Minibatch Loss: 0.139530\n",
      "Step 700: Minibatch Loss: 0.136039\n",
      "Step 800: Minibatch Loss: 0.131299\n",
      "Step 900: Minibatch Loss: 0.125454\n",
      "Step 1000: Minibatch Loss: 0.123444\n",
      "Step 1100: Minibatch Loss: 0.120129\n",
      "Step 1200: Minibatch Loss: 0.115924\n",
      "Step 1300: Minibatch Loss: 0.109051\n",
      "Step 1400: Minibatch Loss: 0.113479\n",
      "Step 1500: Minibatch Loss: 0.107167\n",
      "Step 1600: Minibatch Loss: 0.108214\n",
      "Step 1700: Minibatch Loss: 0.107462\n",
      "Step 1800: Minibatch Loss: 0.100516\n",
      "Step 1900: Minibatch Loss: 0.099734\n",
      "Step 2000: Minibatch Loss: 0.098602\n",
      "Step 2100: Minibatch Loss: 0.099511\n",
      "Step 2200: Minibatch Loss: 0.097139\n",
      "Step 2300: Minibatch Loss: 0.092535\n",
      "Step 2400: Minibatch Loss: 0.094932\n",
      "Step 2500: Minibatch Loss: 0.092509\n",
      "Step 2600: Minibatch Loss: 0.090098\n",
      "Step 2700: Minibatch Loss: 0.093008\n",
      "Step 2800: Minibatch Loss: 0.088752\n",
      "Step 2900: Minibatch Loss: 0.088286\n",
      "Step 3000: Minibatch Loss: 0.088641\n",
      "Step 3100: Minibatch Loss: 0.087662\n",
      "Step 3200: Minibatch Loss: 0.084390\n",
      "Step 3300: Minibatch Loss: 0.084144\n",
      "Step 3400: Minibatch Loss: 0.084974\n",
      "Step 3500: Minibatch Loss: 0.085427\n",
      "Step 3600: Minibatch Loss: 0.084510\n",
      "Step 3700: Minibatch Loss: 0.083236\n",
      "Step 3800: Minibatch Loss: 0.083160\n",
      "Step 3900: Minibatch Loss: 0.080119\n",
      "Step 4000: Minibatch Loss: 0.082257\n",
      "Step 4100: Minibatch Loss: 0.083750\n",
      "Step 4200: Minibatch Loss: 0.080272\n",
      "Step 4300: Minibatch Loss: 0.079663\n",
      "Step 4400: Minibatch Loss: 0.082696\n",
      "Step 4500: Minibatch Loss: 0.082757\n",
      "Step 4600: Minibatch Loss: 0.083086\n",
      "Step 4700: Minibatch Loss: 0.081607\n",
      "Step 4800: Minibatch Loss: 0.077496\n",
      "Step 4900: Minibatch Loss: 0.079424\n",
      "Step 5000: Minibatch Loss: 0.075486\n",
      "Step 5100: Minibatch Loss: 0.075929\n",
      "Step 5200: Minibatch Loss: 0.079041\n",
      "Step 5300: Minibatch Loss: 0.078452\n",
      "Step 5400: Minibatch Loss: 0.079175\n",
      "Step 5500: Minibatch Loss: 0.075554\n",
      "Step 5600: Minibatch Loss: 0.076192\n",
      "Step 5700: Minibatch Loss: 0.070661\n",
      "Step 5800: Minibatch Loss: 0.074834\n",
      "Step 5900: Minibatch Loss: 0.075382\n",
      "Step 6000: Minibatch Loss: 0.075709\n",
      "Step 6100: Minibatch Loss: 0.078888\n",
      "Step 6200: Minibatch Loss: 0.074173\n",
      "Step 6300: Minibatch Loss: 0.075542\n",
      "Step 6400: Minibatch Loss: 0.077120\n",
      "Step 6500: Minibatch Loss: 0.073684\n",
      "Step 6600: Minibatch Loss: 0.073125\n",
      "Step 6700: Minibatch Loss: 0.074423\n",
      "Step 6800: Minibatch Loss: 0.071630\n",
      "Step 6900: Minibatch Loss: 0.072105\n",
      "Step 7000: Minibatch Loss: 0.073256\n",
      "Step 7100: Minibatch Loss: 0.071489\n",
      "Step 7200: Minibatch Loss: 0.072037\n",
      "Step 7300: Minibatch Loss: 0.072737\n",
      "Step 7400: Minibatch Loss: 0.069759\n",
      "Step 7500: Minibatch Loss: 0.070039\n",
      "Step 7600: Minibatch Loss: 0.066803\n",
      "Step 7700: Minibatch Loss: 0.069315\n",
      "Step 7800: Minibatch Loss: 0.068891\n",
      "Step 7900: Minibatch Loss: 0.068989\n",
      "Step 8000: Minibatch Loss: 0.068444\n",
      "Step 8100: Minibatch Loss: 0.066659\n",
      "Step 8200: Minibatch Loss: 0.068329\n",
      "Step 8300: Minibatch Loss: 0.070053\n",
      "Step 8400: Minibatch Loss: 0.066588\n",
      "Step 8500: Minibatch Loss: 0.066129\n",
      "Step 8600: Minibatch Loss: 0.066458\n",
      "Step 8700: Minibatch Loss: 0.066691\n",
      "Step 8800: Minibatch Loss: 0.065109\n",
      "Step 8900: Minibatch Loss: 0.064828\n",
      "Step 9000: Minibatch Loss: 0.063173\n",
      "Step 9100: Minibatch Loss: 0.067843\n",
      "Step 9200: Minibatch Loss: 0.064936\n",
      "Step 9300: Minibatch Loss: 0.062927\n",
      "Step 9400: Minibatch Loss: 0.063434\n",
      "Step 9500: Minibatch Loss: 0.063913\n",
      "Step 9600: Minibatch Loss: 0.061376\n",
      "Step 9700: Minibatch Loss: 0.063217\n",
      "Step 9800: Minibatch Loss: 0.060746\n",
      "Step 9900: Minibatch Loss: 0.063978\n",
      "Step 10000: Minibatch Loss: 0.065053\n"
     ]
    }
   ],
   "source": [
    "sess = tf.Session()\n",
    "sess.run(init)\n",
    "writer = tf.summary.FileWriter(\"./logs/autoencoder\", sess.graph) # for 0.8\n",
    "merged = tf.summary.merge_all()\n",
    "for i in range(1, num_steps+1):\n",
    "    batch_x, _ = mnist.train.next_batch(batch_size)\n",
    "\n",
    "    summary,_, l = sess.run([merged,optimizer, loss], feed_dict={X: batch_x})\n",
    "    writer.add_summary(summary, i) \n",
    "    if i % display_step == 0 or i == 1:\n",
    "        print('Step %i: Minibatch Loss: %f' % (i, l))"
   ]
  },
  {
   "cell_type": "code",
   "execution_count": 142,
   "metadata": {},
   "outputs": [
    {
     "data": {
      "text/plain": [
       "'./weights/my_test_model'"
      ]
     },
     "execution_count": 142,
     "metadata": {},
     "output_type": "execute_result"
    }
   ],
   "source": [
    "saver = tf.train.Saver()\n",
    "saver.save(sess, './weights/my_test_model')"
   ]
  },
  {
   "cell_type": "code",
   "execution_count": 145,
   "metadata": {},
   "outputs": [
    {
     "data": {
      "image/png": "[encoded data removed]",
      "text/plain": [
       "<Figure size 432x288 with 1 Axes>"
      ]
     },
     "metadata": {
      "needs_background": "light"
     },
     "output_type": "display_data"
    }
   ],
   "source": [
    "with tf.Session() as newSes:\n",
    "    new_saver = tf.train.import_meta_graph('./weights/my_test_model.meta')\n",
    "    new_saver.restore(newSes, tf.train.latest_checkpoint('./weights'))\n",
    "    test_x = mnist.test.images\n",
    "    res = newSes.run(encoder_op,feed_dict={X:test_x[100:101]})\n",
    "    ii = newSes.run(img,feed_dict={coded:res})\n",
    "    plt.imshow(ii.reshape(28,28),cmap='gray')"
   ]
  },
  {
   "cell_type": "code",
   "execution_count": 152,
   "metadata": {},
   "outputs": [],
   "source": [
    "# 'tensorboard --logdir=./logs/nn_logs'"
   ]
  },
  {
   "cell_type": "code",
   "execution_count": null,
   "metadata": {},
   "outputs": [],
   "source": []
  },
  {
   "cell_type": "code",
   "execution_count": null,
   "metadata": {},
   "outputs": [],
   "source": []
  },
  {
   "cell_type": "code",
   "execution_count": null,
   "metadata": {},
   "outputs": [],
   "source": []
  }
 ],
 "metadata": {
  "kernelspec": {
   "display_name": "Python 3",
   "language": "python",
   "name": "python3"
  },
  "language_info": {
   "codemirror_mode": {
    "name": "ipython",
    "version": 3
   },
   "file_extension": ".py",
   "mimetype": "text/x-python",
   "name": "python",
   "nbconvert_exporter": "python",
   "pygments_lexer": "ipython3",
   "version": "3.6.8"
  }
 },
 "nbformat": 4,
 "nbformat_minor": 2
}
